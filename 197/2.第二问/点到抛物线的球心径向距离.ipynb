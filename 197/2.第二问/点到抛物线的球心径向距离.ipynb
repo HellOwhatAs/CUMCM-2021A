{
 "cells": [
  {
   "cell_type": "code",
   "execution_count": 1,
   "source": [
    "import sympy as sy"
   ],
   "outputs": [],
   "metadata": {}
  },
  {
   "cell_type": "code",
   "execution_count": 4,
   "source": [
    "x,y,a,b,x0,y0=sy.symbols(\"x,y,a,b,x0,y0\")"
   ],
   "outputs": [],
   "metadata": {}
  },
  {
   "cell_type": "code",
   "execution_count": 6,
   "source": [
    "res=sy.solve(sy.Eq(y0/x0*x,a*x**2-b),x)"
   ],
   "outputs": [],
   "metadata": {}
  },
  {
   "cell_type": "code",
   "execution_count": 7,
   "source": [
    "res[0]"
   ],
   "outputs": [
    {
     "output_type": "execute_result",
     "data": {
      "text/latex": [
       "$\\displaystyle \\frac{y_{0} - \\sqrt{4 a b x_{0}^{2} + y_{0}^{2}}}{2 a x_{0}}$"
      ],
      "text/plain": [
       "(y0 - sqrt(4*a*b*x0**2 + y0**2))/(2*a*x0)"
      ]
     },
     "metadata": {},
     "execution_count": 7
    }
   ],
   "metadata": {}
  },
  {
   "cell_type": "code",
   "execution_count": 11,
   "source": [
    "x,y,z=sy.symbols(\"x,y,z\")\r\n",
    "sy.simplify(sy.sqrt((res[1]-x0)**2+(y0*res[1]/x0-y0)**2)).subs(x0**2,x**2+y**2).subs(y0,z)"
   ],
   "outputs": [
    {
     "output_type": "execute_result",
     "data": {
      "text/latex": [
       "$\\displaystyle \\frac{\\sqrt{\\frac{\\left(x_{0}^{2} + y_{0}^{2}\\right) \\left(2 a x_{0}^{2} - y_{0} - \\sqrt{4 a b x_{0}^{2} + y_{0}^{2}}\\right)^{2}}{a^{2} x_{0}^{4}}}}{2}$"
      ],
      "text/plain": [
       "sqrt((x0**2 + y0**2)*(2*a*x0**2 - y0 - sqrt(4*a*b*x0**2 + y0**2))**2/(a**2*x0**4))/2"
      ]
     },
     "metadata": {},
     "execution_count": 11
    }
   ],
   "metadata": {}
  },
  {
   "cell_type": "markdown",
   "source": [
    "# 点到抛物线的球心径向距离"
   ],
   "metadata": {}
  },
  {
   "cell_type": "code",
   "execution_count": 12,
   "source": [
    "x,y,z=sy.symbols(\"x,y,z\")\r\n",
    "sy.simplify(sy.sqrt((res[1]-x0)**2+(y0*res[1]/x0-y0)**2)).subs(x0**2,x**2+y**2).subs(y0,z)"
   ],
   "outputs": [
    {
     "output_type": "execute_result",
     "data": {
      "text/latex": [
       "$\\displaystyle \\frac{\\sqrt{\\frac{\\left(x^{2} + y^{2} + z^{2}\\right) \\left(2 a \\left(x^{2} + y^{2}\\right) - z - \\sqrt{4 a b \\left(x^{2} + y^{2}\\right) + z^{2}}\\right)^{2}}{a^{2} \\left(x^{2} + y^{2}\\right)^{2}}}}{2}$"
      ],
      "text/plain": [
       "sqrt((x**2 + y**2 + z**2)*(2*a*(x**2 + y**2) - z - sqrt(4*a*b*(x**2 + y**2) + z**2))**2/(a**2*(x**2 + y**2)**2))/2"
      ]
     },
     "metadata": {},
     "execution_count": 12
    }
   ],
   "metadata": {}
  }
 ],
 "metadata": {
  "orig_nbformat": 4,
  "language_info": {
   "name": "python",
   "version": "3.8.10",
   "mimetype": "text/x-python",
   "codemirror_mode": {
    "name": "ipython",
    "version": 3
   },
   "pygments_lexer": "ipython3",
   "nbconvert_exporter": "python",
   "file_extension": ".py"
  },
  "kernelspec": {
   "name": "python3",
   "display_name": "Python 3.8.10 64-bit (windows store)"
  },
  "interpreter": {
   "hash": "1117592e29e609f37c2d3c938d2cf50afff9ea2170661bb7c39d909c872c3b25"
  }
 },
 "nbformat": 4,
 "nbformat_minor": 2
}