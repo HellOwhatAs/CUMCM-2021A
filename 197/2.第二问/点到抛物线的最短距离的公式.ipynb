{
 "cells": [
  {
   "cell_type": "code",
   "execution_count": 1,
   "source": [
    "from sympy import *\r\n",
    "a,b,t,x0,y0=symbols(\"a,b,t,x0,y0\")"
   ],
   "outputs": [],
   "metadata": {}
  },
  {
   "cell_type": "code",
   "execution_count": 2,
   "source": [
    "resu=solve((a*t**2-b-y0)*2*a*t+(t-x0),t)\r\n",
    "resu"
   ],
   "outputs": [
    {
     "output_type": "execute_result",
     "data": {
      "text/plain": [
       "[-(-1/2 - sqrt(3)*I/2)*(sqrt(729*x0**2/(4*a**4) + 27*(-2*a*b - 2*a*y0 + 1)**3/(2*a**6))/2 - 27*x0/(4*a**2))**(1/3)/3 + (-2*a*b - 2*a*y0 + 1)/(2*a**2*(-1/2 - sqrt(3)*I/2)*(sqrt(729*x0**2/(4*a**4) + 27*(-2*a*b - 2*a*y0 + 1)**3/(2*a**6))/2 - 27*x0/(4*a**2))**(1/3)),\n",
       " -(-1/2 + sqrt(3)*I/2)*(sqrt(729*x0**2/(4*a**4) + 27*(-2*a*b - 2*a*y0 + 1)**3/(2*a**6))/2 - 27*x0/(4*a**2))**(1/3)/3 + (-2*a*b - 2*a*y0 + 1)/(2*a**2*(-1/2 + sqrt(3)*I/2)*(sqrt(729*x0**2/(4*a**4) + 27*(-2*a*b - 2*a*y0 + 1)**3/(2*a**6))/2 - 27*x0/(4*a**2))**(1/3)),\n",
       " -(sqrt(729*x0**2/(4*a**4) + 27*(-2*a*b - 2*a*y0 + 1)**3/(2*a**6))/2 - 27*x0/(4*a**2))**(1/3)/3 + (-2*a*b - 2*a*y0 + 1)/(2*a**2*(sqrt(729*x0**2/(4*a**4) + 27*(-2*a*b - 2*a*y0 + 1)**3/(2*a**6))/2 - 27*x0/(4*a**2))**(1/3))]"
      ]
     },
     "metadata": {},
     "execution_count": 2
    }
   ],
   "metadata": {}
  },
  {
   "cell_type": "code",
   "execution_count": 3,
   "source": [
    "len(resu)"
   ],
   "outputs": [
    {
     "output_type": "execute_result",
     "data": {
      "text/plain": [
       "3"
      ]
     },
     "metadata": {},
     "execution_count": 3
    }
   ],
   "metadata": {}
  },
  {
   "cell_type": "code",
   "execution_count": 4,
   "source": [
    "simplify(resu[0])# 复根，舍去"
   ],
   "outputs": [
    {
     "output_type": "execute_result",
     "data": {
      "text/latex": [
       "$\\displaystyle \\frac{\\sqrt[3]{6} \\left(a^{2} \\left(\\frac{\\sqrt{3} a^{2} \\sqrt{\\frac{27 a^{2} x_{0}^{2} - 2 \\left(2 a b + 2 a y_{0} - 1\\right)^{3}}{a^{6}}} - 9 x_{0}}{a^{2}}\\right)^{\\frac{2}{3}} \\left(1 + \\sqrt{3} i\\right)^{2} + 4 \\sqrt[3]{6} \\left(2 a b + 2 a y_{0} - 1\\right)\\right)}{12 a^{2} \\sqrt[3]{\\frac{\\sqrt{3} a^{2} \\sqrt{\\frac{27 a^{2} x_{0}^{2} - 2 \\left(2 a b + 2 a y_{0} - 1\\right)^{3}}{a^{6}}} - 9 x_{0}}{a^{2}}} \\left(1 + \\sqrt{3} i\\right)}$"
      ],
      "text/plain": [
       "6**(1/3)*(a**2*((sqrt(3)*a**2*sqrt((27*a**2*x0**2 - 2*(2*a*b + 2*a*y0 - 1)**3)/a**6) - 9*x0)/a**2)**(2/3)*(1 + sqrt(3)*I)**2 + 4*6**(1/3)*(2*a*b + 2*a*y0 - 1))/(12*a**2*((sqrt(3)*a**2*sqrt((27*a**2*x0**2 - 2*(2*a*b + 2*a*y0 - 1)**3)/a**6) - 9*x0)/a**2)**(1/3)*(1 + sqrt(3)*I))"
      ]
     },
     "metadata": {},
     "execution_count": 4
    }
   ],
   "metadata": {}
  },
  {
   "cell_type": "code",
   "execution_count": 5,
   "source": [
    "simplify(resu[1])# 复根，舍去"
   ],
   "outputs": [
    {
     "output_type": "execute_result",
     "data": {
      "text/latex": [
       "$\\displaystyle \\frac{\\sqrt[3]{6} \\left(a^{2} \\left(\\frac{\\sqrt{3} a^{2} \\sqrt{\\frac{27 a^{2} x_{0}^{2} - 2 \\left(2 a b + 2 a y_{0} - 1\\right)^{3}}{a^{6}}} - 9 x_{0}}{a^{2}}\\right)^{\\frac{2}{3}} \\left(1 - \\sqrt{3} i\\right)^{2} + 4 \\sqrt[3]{6} \\left(2 a b + 2 a y_{0} - 1\\right)\\right)}{12 a^{2} \\sqrt[3]{\\frac{\\sqrt{3} a^{2} \\sqrt{\\frac{27 a^{2} x_{0}^{2} - 2 \\left(2 a b + 2 a y_{0} - 1\\right)^{3}}{a^{6}}} - 9 x_{0}}{a^{2}}} \\left(1 - \\sqrt{3} i\\right)}$"
      ],
      "text/plain": [
       "6**(1/3)*(a**2*((sqrt(3)*a**2*sqrt((27*a**2*x0**2 - 2*(2*a*b + 2*a*y0 - 1)**3)/a**6) - 9*x0)/a**2)**(2/3)*(1 - sqrt(3)*I)**2 + 4*6**(1/3)*(2*a*b + 2*a*y0 - 1))/(12*a**2*((sqrt(3)*a**2*sqrt((27*a**2*x0**2 - 2*(2*a*b + 2*a*y0 - 1)**3)/a**6) - 9*x0)/a**2)**(1/3)*(1 - sqrt(3)*I))"
      ]
     },
     "metadata": {},
     "execution_count": 5
    }
   ],
   "metadata": {}
  },
  {
   "cell_type": "code",
   "execution_count": 6,
   "source": [
    "t=simplify(resu[2])# 实根，代入\r\n",
    "t"
   ],
   "outputs": [
    {
     "output_type": "execute_result",
     "data": {
      "text/latex": [
       "$\\displaystyle \\frac{\\sqrt[3]{6} \\left(- a^{2} \\left(\\frac{\\sqrt{3} a^{2} \\sqrt{\\frac{27 a^{2} x_{0}^{2} - 2 \\left(2 a b + 2 a y_{0} - 1\\right)^{3}}{a^{6}}} - 9 x_{0}}{a^{2}}\\right)^{\\frac{2}{3}} + \\sqrt[3]{6} \\left(- 2 a b - 2 a y_{0} + 1\\right)\\right)}{6 a^{2} \\sqrt[3]{\\frac{\\sqrt{3} a^{2} \\sqrt{\\frac{27 a^{2} x_{0}^{2} - 2 \\left(2 a b + 2 a y_{0} - 1\\right)^{3}}{a^{6}}} - 9 x_{0}}{a^{2}}}}$"
      ],
      "text/plain": [
       "6**(1/3)*(-a**2*((sqrt(3)*a**2*sqrt((27*a**2*x0**2 - 2*(2*a*b + 2*a*y0 - 1)**3)/a**6) - 9*x0)/a**2)**(2/3) + 6**(1/3)*(-2*a*b - 2*a*y0 + 1))/(6*a**2*((sqrt(3)*a**2*sqrt((27*a**2*x0**2 - 2*(2*a*b + 2*a*y0 - 1)**3)/a**6) - 9*x0)/a**2)**(1/3))"
      ]
     },
     "metadata": {},
     "execution_count": 6
    }
   ],
   "metadata": {}
  },
  {
   "cell_type": "markdown",
   "source": [
    "# 点到抛物面的最短距离公式"
   ],
   "metadata": {}
  },
  {
   "cell_type": "code",
   "execution_count": 8,
   "source": [
    "x,y,z=symbols(\"x,y,z\")\r\n",
    "(simplify(sqrt((t-x0)**2+(a*t**2-b-y0)**2).subs(x0**2,x**2+y**2).subs(x0,-sqrt(x**2+y**2)).subs(y0,z)))"
   ],
   "outputs": [
    {
     "output_type": "execute_result",
     "data": {
      "text/latex": [
       "$\\displaystyle \\frac{\\sqrt{\\frac{\\left(\\frac{\\sqrt{3} a^{2} \\sqrt{\\frac{27 a^{2} \\left(x^{2} + y^{2}\\right) - 2 \\left(2 a b + 2 a z - 1\\right)^{3}}{a^{6}}} + 9 \\sqrt{x^{2} + y^{2}}}{a^{2}}\\right)^{\\frac{2}{3}} \\left(36 a^{2} \\left(\\frac{\\sqrt{3} a^{2} \\sqrt{\\frac{27 a^{2} \\left(x^{2} + y^{2}\\right) - 2 \\left(2 a b + 2 a z - 1\\right)^{3}}{a^{6}}} + 9 \\sqrt{x^{2} + y^{2}}}{a^{2}}\\right)^{\\frac{2}{3}} \\left(6 a^{2} \\sqrt[3]{\\frac{\\sqrt{3} a^{2} \\sqrt{\\frac{27 a^{2} \\left(x^{2} + y^{2}\\right) - 2 \\left(2 a b + 2 a z - 1\\right)^{3}}{a^{6}}} + 9 \\sqrt{x^{2} + y^{2}}}{a^{2}}} \\sqrt{x^{2} + y^{2}} - \\sqrt[3]{6} \\left(a^{2} \\left(\\frac{\\sqrt{3} a^{2} \\sqrt{\\frac{27 a^{2} \\left(x^{2} + y^{2}\\right) - 2 \\left(2 a b + 2 a z - 1\\right)^{3}}{a^{6}}} + 9 \\sqrt{x^{2} + y^{2}}}{a^{2}}\\right)^{\\frac{2}{3}} + \\sqrt[3]{6} \\left(2 a b + 2 a z - 1\\right)\\right)\\right)^{2} + \\left(36 a^{3} \\left(\\frac{\\sqrt{3} a^{2} \\sqrt{\\frac{27 a^{2} \\left(x^{2} + y^{2}\\right) - 2 \\left(2 a b + 2 a z - 1\\right)^{3}}{a^{6}}} + 9 \\sqrt{x^{2} + y^{2}}}{a^{2}}\\right)^{\\frac{2}{3}} \\left(b + z\\right) - 6^{\\frac{2}{3}} \\left(a^{2} \\left(\\frac{\\sqrt{3} a^{2} \\sqrt{\\frac{27 a^{2} \\left(x^{2} + y^{2}\\right) - 2 \\left(2 a b + 2 a z - 1\\right)^{3}}{a^{6}}} + 9 \\sqrt{x^{2} + y^{2}}}{a^{2}}\\right)^{\\frac{2}{3}} - \\sqrt[3]{6} \\left(- 2 a b - 2 a z + 1\\right)\\right)^{2}\\right)^{2}\\right)}{a^{2} \\left(\\sqrt{3} a^{2} \\sqrt{\\frac{27 a^{2} \\left(x^{2} + y^{2}\\right) - 2 \\left(2 a b + 2 a z - 1\\right)^{3}}{a^{6}}} + 9 \\sqrt{x^{2} + y^{2}}\\right)^{2}}}}{36}$"
      ],
      "text/plain": [
       "sqrt(((sqrt(3)*a**2*sqrt((27*a**2*(x**2 + y**2) - 2*(2*a*b + 2*a*z - 1)**3)/a**6) + 9*sqrt(x**2 + y**2))/a**2)**(2/3)*(36*a**2*((sqrt(3)*a**2*sqrt((27*a**2*(x**2 + y**2) - 2*(2*a*b + 2*a*z - 1)**3)/a**6) + 9*sqrt(x**2 + y**2))/a**2)**(2/3)*(6*a**2*((sqrt(3)*a**2*sqrt((27*a**2*(x**2 + y**2) - 2*(2*a*b + 2*a*z - 1)**3)/a**6) + 9*sqrt(x**2 + y**2))/a**2)**(1/3)*sqrt(x**2 + y**2) - 6**(1/3)*(a**2*((sqrt(3)*a**2*sqrt((27*a**2*(x**2 + y**2) - 2*(2*a*b + 2*a*z - 1)**3)/a**6) + 9*sqrt(x**2 + y**2))/a**2)**(2/3) + 6**(1/3)*(2*a*b + 2*a*z - 1)))**2 + (36*a**3*((sqrt(3)*a**2*sqrt((27*a**2*(x**2 + y**2) - 2*(2*a*b + 2*a*z - 1)**3)/a**6) + 9*sqrt(x**2 + y**2))/a**2)**(2/3)*(b + z) - 6**(2/3)*(a**2*((sqrt(3)*a**2*sqrt((27*a**2*(x**2 + y**2) - 2*(2*a*b + 2*a*z - 1)**3)/a**6) + 9*sqrt(x**2 + y**2))/a**2)**(2/3) - 6**(1/3)*(-2*a*b - 2*a*z + 1))**2)**2)/(a**2*(sqrt(3)*a**2*sqrt((27*a**2*(x**2 + y**2) - 2*(2*a*b + 2*a*z - 1)**3)/a**6) + 9*sqrt(x**2 + y**2))**2))/36"
      ]
     },
     "metadata": {},
     "execution_count": 8
    }
   ],
   "metadata": {}
  }
 ],
 "metadata": {
  "orig_nbformat": 4,
  "language_info": {
   "name": "python",
   "version": "3.8.10",
   "mimetype": "text/x-python",
   "codemirror_mode": {
    "name": "ipython",
    "version": 3
   },
   "pygments_lexer": "ipython3",
   "nbconvert_exporter": "python",
   "file_extension": ".py"
  },
  "kernelspec": {
   "name": "python3",
   "display_name": "Python 3.8.10 64-bit (windows store)"
  },
  "interpreter": {
   "hash": "1117592e29e609f37c2d3c938d2cf50afff9ea2170661bb7c39d909c872c3b25"
  }
 },
 "nbformat": 4,
 "nbformat_minor": 2
}